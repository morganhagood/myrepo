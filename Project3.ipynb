{
  "nbformat": 4,
  "nbformat_minor": 0,
  "metadata": {
    "colab": {
      "name": "Project3.ipynb",
      "provenance": []
    },
    "kernelspec": {
      "name": "python3",
      "display_name": "Python 3"
    },
    "language_info": {
      "name": "python"
    }
  },
  "cells": [
    {
      "cell_type": "markdown",
      "metadata": {
        "id": "NMxkRmZLKq9N"
      },
      "source": [
        "# **Global Greenhouse Gas Information**\n"
      ]
    },
    {
      "cell_type": "markdown",
      "metadata": {
        "id": "xjPSMRnDK5eN"
      },
      "source": [
        "### Morgan Hagood"
      ]
    },
    {
      "cell_type": "markdown",
      "metadata": {
        "id": "aXM7jSw_K9_y"
      },
      "source": [
        "### *References*"
      ]
    },
    {
      "cell_type": "markdown",
      "metadata": {
        "id": "dmFFOxtgLCH9"
      },
      "source": [
        "*Mathieu, H. R. M. R. (2021). Data on CO2 and Greenhouse Gas Emissions by Our World in Data [Data set]. Retrieved from https://github.com/owid/co2-data (Original work published 2020)*"
      ]
    },
    {
      "cell_type": "markdown",
      "metadata": {
        "id": "wvP13CB_Lgrf"
      },
      "source": [
        "For this project, I chose to analyze the greenhouse gas dataset from my previous two projects from Our World in Data because I wanted to see the different levels of greenhouse gases in ppm in different regions across the world. This dataset contains variables about three different greenhouse gases- Carbon Dioxide, Methane, and Nitrous Oxide. It also contains variables like Year, Country Name, and the different sources of the emissions. "
      ]
    },
    {
      "cell_type": "markdown",
      "metadata": {
        "id": "6XW385_hMm-Q"
      },
      "source": [
        "# Import Dataset "
      ]
    },
    {
      "cell_type": "markdown",
      "metadata": {
        "id": "EtoqjUzzMrOS"
      },
      "source": [
        "The dataset was imported as an excel file into jupyter notebooks. The shape of the dataset showed that there were 23708 observations and 55 variables. The observations consisted of integers, non-numeric values, and float point numbers."
      ]
    },
    {
      "cell_type": "code",
      "metadata": {
        "id": "OIH0JmF9xiMh"
      },
      "source": [
        "# IMPORTANT\n",
        "# Running this chunk lets you have multiple outputs from a single chunk; run it first!\n",
        "from IPython.core.interactiveshell import InteractiveShell\n",
        "InteractiveShell.ast_node_interactivity = \"all\""
      ],
      "execution_count": 6,
      "outputs": []
    },
    {
      "cell_type": "code",
      "metadata": {
        "id": "AcZcLWxIxoNT"
      },
      "source": [
        "import pandas as pd"
      ],
      "execution_count": 7,
      "outputs": []
    },
    {
      "cell_type": "code",
      "metadata": {
        "id": "Ny4Tj15xNLXZ"
      },
      "source": [
        "ggdata = pd.read_excel('/content/owid-co2-data.xlsx')"
      ],
      "execution_count": 11,
      "outputs": []
    },
    {
      "cell_type": "code",
      "metadata": {
        "colab": {
          "base_uri": "https://localhost:8080/"
        },
        "id": "-dT6jpBENYm8",
        "outputId": "d58c2e76-1b92-4a9d-8d0c-1fdf9f5906d2"
      },
      "source": [
        "print(ggdata)"
      ],
      "execution_count": 12,
      "outputs": [
        {
          "output_type": "stream",
          "text": [
            "      iso_code      country  year  ...  energy_per_gdp  population           gdp\n",
            "0          AFG  Afghanistan  1949  ...             NaN   7663783.0           NaN\n",
            "1          AFG  Afghanistan  1950  ...             NaN   7752000.0  1.949480e+10\n",
            "2          AFG  Afghanistan  1951  ...             NaN   7840000.0  2.006385e+10\n",
            "3          AFG  Afghanistan  1952  ...             NaN   7936000.0  2.074235e+10\n",
            "4          AFG  Afghanistan  1953  ...             NaN   8040000.0  2.201546e+10\n",
            "...        ...          ...   ...  ...             ...         ...           ...\n",
            "23703      ZWE     Zimbabwe  2015  ...             NaN  13815000.0  2.503057e+10\n",
            "23704      ZWE     Zimbabwe  2016  ...             NaN  14030000.0  2.515176e+10\n",
            "23705      ZWE     Zimbabwe  2017  ...             NaN  14237000.0           NaN\n",
            "23706      ZWE     Zimbabwe  2018  ...             NaN  14439000.0           NaN\n",
            "23707      ZWE     Zimbabwe  2019  ...             NaN  14645000.0           NaN\n",
            "\n",
            "[23708 rows x 55 columns]\n"
          ],
          "name": "stdout"
        }
      ]
    },
    {
      "cell_type": "code",
      "metadata": {
        "colab": {
          "base_uri": "https://localhost:8080/"
        },
        "id": "k-mgAEtFkhQH",
        "outputId": "9ce71973-398f-4e62-cf1a-cbd64f57fd7e"
      },
      "source": [
        "ggdata.shape"
      ],
      "execution_count": 13,
      "outputs": [
        {
          "output_type": "execute_result",
          "data": {
            "text/plain": [
              "(23708, 55)"
            ]
          },
          "metadata": {
            "tags": []
          },
          "execution_count": 13
        }
      ]
    },
    {
      "cell_type": "code",
      "metadata": {
        "colab": {
          "base_uri": "https://localhost:8080/"
        },
        "id": "XKRVnoVlSE-2",
        "outputId": "57df2969-630a-4a24-be94-47fb874d1537"
      },
      "source": [
        "ggdata.info()"
      ],
      "execution_count": 14,
      "outputs": [
        {
          "output_type": "stream",
          "text": [
            "<class 'pandas.core.frame.DataFrame'>\n",
            "RangeIndex: 23708 entries, 0 to 23707\n",
            "Data columns (total 55 columns):\n",
            " #   Column                               Non-Null Count  Dtype  \n",
            "---  ------                               --------------  -----  \n",
            " 0   iso_code                             20930 non-null  object \n",
            " 1   country                              23708 non-null  object \n",
            " 2   year                                 23708 non-null  int64  \n",
            " 3   co2                                  23170 non-null  float64\n",
            " 4   co2_growth_prct                      21910 non-null  float64\n",
            " 5   co2_growth_abs                       22017 non-null  float64\n",
            " 6   consumption_co2                      3350 non-null   float64\n",
            " 7   trade_co2                            3318 non-null   float64\n",
            " 8   trade_co2_share                      3318 non-null   float64\n",
            " 9   co2_per_capita                       22383 non-null  float64\n",
            " 10  consumption_co2_per_capita           3350 non-null   float64\n",
            " 11  share_global_co2                     23103 non-null  float64\n",
            " 12  cumulative_co2                       23578 non-null  float64\n",
            " 13  share_global_cumulative_co2          23578 non-null  float64\n",
            " 14  co2_per_gdp                          14918 non-null  float64\n",
            " 15  consumption_co2_per_gdp              3088 non-null   float64\n",
            " 16  co2_per_unit_energy                  6743 non-null   float64\n",
            " 17  cement_co2                           12182 non-null  float64\n",
            " 18  coal_co2                             16991 non-null  float64\n",
            " 19  flaring_co2                          4302 non-null   float64\n",
            " 20  gas_co2                              8693 non-null   float64\n",
            " 21  oil_co2                              19711 non-null  float64\n",
            " 22  other_industry_co2                   1563 non-null   float64\n",
            " 23  cement_co2_per_capita                12153 non-null  float64\n",
            " 24  coal_co2_per_capita                  16471 non-null  float64\n",
            " 25  flaring_co2_per_capita               4301 non-null   float64\n",
            " 26  gas_co2_per_capita                   8665 non-null   float64\n",
            " 27  oil_co2_per_capita                   19393 non-null  float64\n",
            " 28  other_co2_per_capita                 1563 non-null   float64\n",
            " 29  share_global_coal_co2                16991 non-null  float64\n",
            " 30  share_global_oil_co2                 19711 non-null  float64\n",
            " 31  share_global_gas_co2                 8693 non-null   float64\n",
            " 32  share_global_flaring_co2             4302 non-null   float64\n",
            " 33  share_global_cement_co2              12182 non-null  float64\n",
            " 34  cumulative_coal_co2                  18552 non-null  float64\n",
            " 35  cumulative_oil_co2                   19963 non-null  float64\n",
            " 36  cumulative_gas_co2                   9187 non-null   float64\n",
            " 37  cumulative_flaring_co2               4933 non-null   float64\n",
            " 38  cumulative_cement_co2                12563 non-null  float64\n",
            " 39  share_global_cumulative_coal_co2     18552 non-null  float64\n",
            " 40  share_global_cumulative_oil_co2      19963 non-null  float64\n",
            " 41  share_global_cumulative_gas_co2      9187 non-null   float64\n",
            " 42  share_global_cumulative_flaring_co2  4933 non-null   float64\n",
            " 43  share_global_cumulative_cement_co2   12563 non-null  float64\n",
            " 44  total_ghg                            5208 non-null   float64\n",
            " 45  ghg_per_capita                       5155 non-null   float64\n",
            " 46  methane                              5211 non-null   float64\n",
            " 47  methane_per_capita                   5157 non-null   float64\n",
            " 48  nitrous_oxide                        5211 non-null   float64\n",
            " 49  nitrous_oxide_per_capita             5157 non-null   float64\n",
            " 50  primary_energy_consumption           6044 non-null   float64\n",
            " 51  energy_per_capita                    6044 non-null   float64\n",
            " 52  energy_per_gdp                       6044 non-null   float64\n",
            " 53  population                           21071 non-null  float64\n",
            " 54  gdp                                  13002 non-null  float64\n",
            "dtypes: float64(52), int64(1), object(2)\n",
            "memory usage: 9.9+ MB\n"
          ],
          "name": "stdout"
        }
      ]
    },
    {
      "cell_type": "markdown",
      "metadata": {
        "id": "oGv6-tugNqDf"
      },
      "source": [
        "# EDA"
      ]
    },
    {
      "cell_type": "markdown",
      "metadata": {
        "id": "tV6CVFh3NsDU"
      },
      "source": [
        "For exploratory data analysis, the summary statistics were taken and a visual for CO2 growth percentage was made. Some of the statistics included a mean CO2 growth percentage of 17.71%, a maximum methane emission of 8660.01 ppm, and a standard deviation of total greenhouse gas (ghg) of 3089.04 ppm. The CO2 growth percentages for all the countries in the world were plotted by year. It can be seen that the highest growth percentage was seen in the 1950's and then decreased. However, there are still high peaks of growth between 1950 and the present. The counts of the non-numeric categorical variables were taken, which showed frequencies of the occurences of each country and their ISO codes. The highest frequency for country and ISO code was 270, with the lowest being 1. This means that the emissions in ppm for these countries were recorded 270 times and in some, only once."
      ]
    },
    {
      "cell_type": "code",
      "metadata": {
        "colab": {
          "base_uri": "https://localhost:8080/",
          "height": 317
        },
        "id": "ds4yAxAwYko0",
        "outputId": "54929dd6-9124-4eb1-950a-159381b7cd10"
      },
      "source": [
        "ggdata.describe()"
      ],
      "execution_count": 12,
      "outputs": [
        {
          "output_type": "execute_result",
          "data": {
            "text/html": [
              "<div>\n",
              "<style scoped>\n",
              "    .dataframe tbody tr th:only-of-type {\n",
              "        vertical-align: middle;\n",
              "    }\n",
              "\n",
              "    .dataframe tbody tr th {\n",
              "        vertical-align: top;\n",
              "    }\n",
              "\n",
              "    .dataframe thead th {\n",
              "        text-align: right;\n",
              "    }\n",
              "</style>\n",
              "<table border=\"1\" class=\"dataframe\">\n",
              "  <thead>\n",
              "    <tr style=\"text-align: right;\">\n",
              "      <th></th>\n",
              "      <th>year</th>\n",
              "      <th>co2</th>\n",
              "      <th>co2_growth_prct</th>\n",
              "      <th>co2_growth_abs</th>\n",
              "      <th>consumption_co2</th>\n",
              "      <th>trade_co2</th>\n",
              "      <th>trade_co2_share</th>\n",
              "      <th>co2_per_capita</th>\n",
              "      <th>consumption_co2_per_capita</th>\n",
              "      <th>share_global_co2</th>\n",
              "      <th>cumulative_co2</th>\n",
              "      <th>share_global_cumulative_co2</th>\n",
              "      <th>co2_per_gdp</th>\n",
              "      <th>consumption_co2_per_gdp</th>\n",
              "      <th>co2_per_unit_energy</th>\n",
              "      <th>cement_co2</th>\n",
              "      <th>coal_co2</th>\n",
              "      <th>flaring_co2</th>\n",
              "      <th>gas_co2</th>\n",
              "      <th>oil_co2</th>\n",
              "      <th>other_industry_co2</th>\n",
              "      <th>cement_co2_per_capita</th>\n",
              "      <th>coal_co2_per_capita</th>\n",
              "      <th>flaring_co2_per_capita</th>\n",
              "      <th>gas_co2_per_capita</th>\n",
              "      <th>oil_co2_per_capita</th>\n",
              "      <th>other_co2_per_capita</th>\n",
              "      <th>share_global_coal_co2</th>\n",
              "      <th>share_global_oil_co2</th>\n",
              "      <th>share_global_gas_co2</th>\n",
              "      <th>share_global_flaring_co2</th>\n",
              "      <th>share_global_cement_co2</th>\n",
              "      <th>cumulative_coal_co2</th>\n",
              "      <th>cumulative_oil_co2</th>\n",
              "      <th>cumulative_gas_co2</th>\n",
              "      <th>cumulative_flaring_co2</th>\n",
              "      <th>cumulative_cement_co2</th>\n",
              "      <th>share_global_cumulative_coal_co2</th>\n",
              "      <th>share_global_cumulative_oil_co2</th>\n",
              "      <th>share_global_cumulative_gas_co2</th>\n",
              "      <th>share_global_cumulative_flaring_co2</th>\n",
              "      <th>share_global_cumulative_cement_co2</th>\n",
              "      <th>total_ghg</th>\n",
              "      <th>ghg_per_capita</th>\n",
              "      <th>methane</th>\n",
              "      <th>methane_per_capita</th>\n",
              "      <th>nitrous_oxide</th>\n",
              "      <th>nitrous_oxide_per_capita</th>\n",
              "      <th>primary_energy_consumption</th>\n",
              "      <th>energy_per_capita</th>\n",
              "      <th>energy_per_gdp</th>\n",
              "      <th>population</th>\n",
              "      <th>gdp</th>\n",
              "    </tr>\n",
              "  </thead>\n",
              "  <tbody>\n",
              "    <tr>\n",
              "      <th>count</th>\n",
              "      <td>23708.000000</td>\n",
              "      <td>23170.000000</td>\n",
              "      <td>21910.000000</td>\n",
              "      <td>22017.000000</td>\n",
              "      <td>3350.000000</td>\n",
              "      <td>3318.000000</td>\n",
              "      <td>3318.000000</td>\n",
              "      <td>22383.000000</td>\n",
              "      <td>3350.000000</td>\n",
              "      <td>23103.000000</td>\n",
              "      <td>2.357800e+04</td>\n",
              "      <td>23578.000000</td>\n",
              "      <td>14918.000000</td>\n",
              "      <td>3088.000000</td>\n",
              "      <td>6743.000000</td>\n",
              "      <td>12182.000000</td>\n",
              "      <td>16991.000000</td>\n",
              "      <td>4302.000000</td>\n",
              "      <td>8693.000000</td>\n",
              "      <td>19711.000000</td>\n",
              "      <td>1563.000000</td>\n",
              "      <td>12153.000000</td>\n",
              "      <td>16471.000000</td>\n",
              "      <td>4301.000000</td>\n",
              "      <td>8665.00000</td>\n",
              "      <td>19393.000000</td>\n",
              "      <td>1563.000000</td>\n",
              "      <td>16991.000000</td>\n",
              "      <td>19711.000000</td>\n",
              "      <td>8693.000000</td>\n",
              "      <td>4302.000000</td>\n",
              "      <td>12182.000000</td>\n",
              "      <td>18552.000000</td>\n",
              "      <td>19963.000000</td>\n",
              "      <td>9187.000000</td>\n",
              "      <td>4933.000000</td>\n",
              "      <td>12563.000000</td>\n",
              "      <td>18552.000000</td>\n",
              "      <td>19963.000000</td>\n",
              "      <td>9187.000000</td>\n",
              "      <td>4933.000000</td>\n",
              "      <td>12563.000000</td>\n",
              "      <td>5208.000000</td>\n",
              "      <td>5155.000000</td>\n",
              "      <td>5211.000000</td>\n",
              "      <td>5157.000000</td>\n",
              "      <td>5211.000000</td>\n",
              "      <td>5157.000000</td>\n",
              "      <td>6044.000000</td>\n",
              "      <td>6044.000000</td>\n",
              "      <td>6044.000000</td>\n",
              "      <td>2.107100e+04</td>\n",
              "      <td>1.300200e+04</td>\n",
              "    </tr>\n",
              "    <tr>\n",
              "      <th>mean</th>\n",
              "      <td>1951.670997</td>\n",
              "      <td>270.245818</td>\n",
              "      <td>17.705591</td>\n",
              "      <td>5.784158</td>\n",
              "      <td>222.596056</td>\n",
              "      <td>3.673305</td>\n",
              "      <td>27.047046</td>\n",
              "      <td>4.059490</td>\n",
              "      <td>6.556161</td>\n",
              "      <td>5.155362</td>\n",
              "      <td>1.036949e+04</td>\n",
              "      <td>5.198693</td>\n",
              "      <td>0.462111</td>\n",
              "      <td>0.385822</td>\n",
              "      <td>0.231178</td>\n",
              "      <td>12.909967</td>\n",
              "      <td>176.696376</td>\n",
              "      <td>15.009035</td>\n",
              "      <td>109.917265</td>\n",
              "      <td>108.076481</td>\n",
              "      <td>10.036499</td>\n",
              "      <td>0.114305</td>\n",
              "      <td>1.551907</td>\n",
              "      <td>0.874481</td>\n",
              "      <td>1.42306</td>\n",
              "      <td>2.458824</td>\n",
              "      <td>0.087681</td>\n",
              "      <td>7.068457</td>\n",
              "      <td>3.085599</td>\n",
              "      <td>5.491435</td>\n",
              "      <td>5.970189</td>\n",
              "      <td>3.693983</td>\n",
              "      <td>8091.807517</td>\n",
              "      <td>3298.187156</td>\n",
              "      <td>2460.605452</td>\n",
              "      <td>377.466486</td>\n",
              "      <td>303.171909</td>\n",
              "      <td>6.676975</td>\n",
              "      <td>3.063965</td>\n",
              "      <td>5.040919</td>\n",
              "      <td>5.026469</td>\n",
              "      <td>3.567045</td>\n",
              "      <td>441.481429</td>\n",
              "      <td>8.099506</td>\n",
              "      <td>82.253370</td>\n",
              "      <td>2.046923</td>\n",
              "      <td>29.308135</td>\n",
              "      <td>0.606690</td>\n",
              "      <td>1638.281196</td>\n",
              "      <td>27401.710621</td>\n",
              "      <td>2.293554</td>\n",
              "      <td>5.927539e+07</td>\n",
              "      <td>4.396605e+11</td>\n",
              "    </tr>\n",
              "    <tr>\n",
              "      <th>std</th>\n",
              "      <td>53.828319</td>\n",
              "      <td>1509.911932</td>\n",
              "      <td>290.750382</td>\n",
              "      <td>54.859594</td>\n",
              "      <td>773.261390</td>\n",
              "      <td>100.251878</td>\n",
              "      <td>52.599781</td>\n",
              "      <td>15.339885</td>\n",
              "      <td>7.303592</td>\n",
              "      <td>18.014885</td>\n",
              "      <td>6.249303e+04</td>\n",
              "      <td>18.629679</td>\n",
              "      <td>0.557402</td>\n",
              "      <td>0.260225</td>\n",
              "      <td>0.358510</td>\n",
              "      <td>77.756404</td>\n",
              "      <td>796.376333</td>\n",
              "      <td>41.084822</td>\n",
              "      <td>454.948665</td>\n",
              "      <td>620.906079</td>\n",
              "      <td>21.014507</td>\n",
              "      <td>0.148661</td>\n",
              "      <td>2.558295</td>\n",
              "      <td>5.514190</td>\n",
              "      <td>3.68034</td>\n",
              "      <td>15.565557</td>\n",
              "      <td>0.057153</td>\n",
              "      <td>20.880737</td>\n",
              "      <td>12.267356</td>\n",
              "      <td>18.594927</td>\n",
              "      <td>15.151680</td>\n",
              "      <td>13.791054</td>\n",
              "      <td>38183.146643</td>\n",
              "      <td>22243.597885</td>\n",
              "      <td>12396.549689</td>\n",
              "      <td>1273.833741</td>\n",
              "      <td>1737.873396</td>\n",
              "      <td>20.928897</td>\n",
              "      <td>12.314802</td>\n",
              "      <td>18.631930</td>\n",
              "      <td>14.384035</td>\n",
              "      <td>13.561960</td>\n",
              "      <td>3089.039496</td>\n",
              "      <td>9.387477</td>\n",
              "      <td>566.702756</td>\n",
              "      <td>3.534126</td>\n",
              "      <td>199.291118</td>\n",
              "      <td>0.844671</td>\n",
              "      <td>9666.490291</td>\n",
              "      <td>33293.462203</td>\n",
              "      <td>1.681657</td>\n",
              "      <td>3.730743e+08</td>\n",
              "      <td>3.666682e+12</td>\n",
              "    </tr>\n",
              "    <tr>\n",
              "      <th>min</th>\n",
              "      <td>1750.000000</td>\n",
              "      <td>-1.165000</td>\n",
              "      <td>-2835.714000</td>\n",
              "      <td>-860.211000</td>\n",
              "      <td>-1.344000</td>\n",
              "      <td>-1487.155000</td>\n",
              "      <td>-118.238000</td>\n",
              "      <td>-2.675000</td>\n",
              "      <td>-0.396000</td>\n",
              "      <td>-0.030000</td>\n",
              "      <td>0.000000e+00</td>\n",
              "      <td>0.000000</td>\n",
              "      <td>-0.252000</td>\n",
              "      <td>-0.030000</td>\n",
              "      <td>0.001000</td>\n",
              "      <td>0.001000</td>\n",
              "      <td>-0.114000</td>\n",
              "      <td>0.000000</td>\n",
              "      <td>-0.147000</td>\n",
              "      <td>-1.191000</td>\n",
              "      <td>0.000000</td>\n",
              "      <td>0.000000</td>\n",
              "      <td>-0.051000</td>\n",
              "      <td>0.000000</td>\n",
              "      <td>-0.05100</td>\n",
              "      <td>-2.950000</td>\n",
              "      <td>0.000000</td>\n",
              "      <td>-0.001000</td>\n",
              "      <td>-0.210000</td>\n",
              "      <td>-0.006000</td>\n",
              "      <td>0.000000</td>\n",
              "      <td>0.000000</td>\n",
              "      <td>0.000000</td>\n",
              "      <td>-0.011000</td>\n",
              "      <td>-0.147000</td>\n",
              "      <td>0.000000</td>\n",
              "      <td>0.002000</td>\n",
              "      <td>0.000000</td>\n",
              "      <td>-0.003000</td>\n",
              "      <td>-0.001000</td>\n",
              "      <td>0.000000</td>\n",
              "      <td>0.000000</td>\n",
              "      <td>-85.620000</td>\n",
              "      <td>-50.487000</td>\n",
              "      <td>0.000000</td>\n",
              "      <td>0.000000</td>\n",
              "      <td>0.000000</td>\n",
              "      <td>0.000000</td>\n",
              "      <td>0.208000</td>\n",
              "      <td>111.472000</td>\n",
              "      <td>0.048000</td>\n",
              "      <td>1.000000e+03</td>\n",
              "      <td>6.378000e+07</td>\n",
              "    </tr>\n",
              "    <tr>\n",
              "      <th>25%</th>\n",
              "      <td>1922.000000</td>\n",
              "      <td>0.546000</td>\n",
              "      <td>-1.070000</td>\n",
              "      <td>-0.011000</td>\n",
              "      <td>8.942000</td>\n",
              "      <td>0.000000</td>\n",
              "      <td>0.000000</td>\n",
              "      <td>0.234000</td>\n",
              "      <td>1.100500</td>\n",
              "      <td>0.006000</td>\n",
              "      <td>5.994000e+00</td>\n",
              "      <td>0.002000</td>\n",
              "      <td>0.145250</td>\n",
              "      <td>0.225000</td>\n",
              "      <td>0.161000</td>\n",
              "      <td>0.138000</td>\n",
              "      <td>0.333000</td>\n",
              "      <td>0.258250</td>\n",
              "      <td>0.370000</td>\n",
              "      <td>0.309000</td>\n",
              "      <td>0.561000</td>\n",
              "      <td>0.021000</td>\n",
              "      <td>0.053000</td>\n",
              "      <td>0.020000</td>\n",
              "      <td>0.03000</td>\n",
              "      <td>0.112000</td>\n",
              "      <td>0.052000</td>\n",
              "      <td>0.008000</td>\n",
              "      <td>0.012000</td>\n",
              "      <td>0.032000</td>\n",
              "      <td>0.095000</td>\n",
              "      <td>0.048000</td>\n",
              "      <td>2.453250</td>\n",
              "      <td>3.624500</td>\n",
              "      <td>1.889000</td>\n",
              "      <td>3.203000</td>\n",
              "      <td>1.585500</td>\n",
              "      <td>0.002000</td>\n",
              "      <td>0.007000</td>\n",
              "      <td>0.011000</td>\n",
              "      <td>0.039000</td>\n",
              "      <td>0.036000</td>\n",
              "      <td>8.162500</td>\n",
              "      <td>2.514000</td>\n",
              "      <td>2.150000</td>\n",
              "      <td>0.715000</td>\n",
              "      <td>0.535000</td>\n",
              "      <td>0.228000</td>\n",
              "      <td>46.319000</td>\n",
              "      <td>5829.803000</td>\n",
              "      <td>1.247000</td>\n",
              "      <td>1.333018e+06</td>\n",
              "      <td>8.926728e+09</td>\n",
              "    </tr>\n",
              "    <tr>\n",
              "      <th>50%</th>\n",
              "      <td>1965.000000</td>\n",
              "      <td>5.168000</td>\n",
              "      <td>4.361000</td>\n",
              "      <td>0.088000</td>\n",
              "      <td>36.854000</td>\n",
              "      <td>2.348000</td>\n",
              "      <td>16.319500</td>\n",
              "      <td>1.209000</td>\n",
              "      <td>4.040000</td>\n",
              "      <td>0.072000</td>\n",
              "      <td>8.631600e+01</td>\n",
              "      <td>0.033000</td>\n",
              "      <td>0.301000</td>\n",
              "      <td>0.326000</td>\n",
              "      <td>0.215000</td>\n",
              "      <td>0.581000</td>\n",
              "      <td>4.023000</td>\n",
              "      <td>2.010000</td>\n",
              "      <td>4.199000</td>\n",
              "      <td>2.126000</td>\n",
              "      <td>1.907000</td>\n",
              "      <td>0.071000</td>\n",
              "      <td>0.425000</td>\n",
              "      <td>0.067000</td>\n",
              "      <td>0.27700</td>\n",
              "      <td>0.596000</td>\n",
              "      <td>0.081000</td>\n",
              "      <td>0.119000</td>\n",
              "      <td>0.090000</td>\n",
              "      <td>0.203000</td>\n",
              "      <td>0.715000</td>\n",
              "      <td>0.201000</td>\n",
              "      <td>64.988000</td>\n",
              "      <td>37.380000</td>\n",
              "      <td>39.813000</td>\n",
              "      <td>28.011000</td>\n",
              "      <td>10.072000</td>\n",
              "      <td>0.048500</td>\n",
              "      <td>0.072000</td>\n",
              "      <td>0.101000</td>\n",
              "      <td>0.358000</td>\n",
              "      <td>0.177000</td>\n",
              "      <td>37.095000</td>\n",
              "      <td>5.474000</td>\n",
              "      <td>9.030000</td>\n",
              "      <td>1.111000</td>\n",
              "      <td>3.590000</td>\n",
              "      <td>0.384000</td>\n",
              "      <td>148.790500</td>\n",
              "      <td>15359.988500</td>\n",
              "      <td>1.823500</td>\n",
              "      <td>4.856304e+06</td>\n",
              "      <td>2.966217e+10</td>\n",
              "    </tr>\n",
              "    <tr>\n",
              "      <th>75%</th>\n",
              "      <td>1993.000000</td>\n",
              "      <td>44.799000</td>\n",
              "      <td>11.450750</td>\n",
              "      <td>1.272000</td>\n",
              "      <td>141.397000</td>\n",
              "      <td>9.545500</td>\n",
              "      <td>40.842000</td>\n",
              "      <td>4.632500</td>\n",
              "      <td>9.829750</td>\n",
              "      <td>0.626000</td>\n",
              "      <td>1.099167e+03</td>\n",
              "      <td>0.414000</td>\n",
              "      <td>0.574000</td>\n",
              "      <td>0.463000</td>\n",
              "      <td>0.255000</td>\n",
              "      <td>2.959000</td>\n",
              "      <td>35.850000</td>\n",
              "      <td>12.190000</td>\n",
              "      <td>30.408000</td>\n",
              "      <td>17.624000</td>\n",
              "      <td>8.278500</td>\n",
              "      <td>0.157000</td>\n",
              "      <td>2.108500</td>\n",
              "      <td>0.201000</td>\n",
              "      <td>1.44400</td>\n",
              "      <td>2.385000</td>\n",
              "      <td>0.117000</td>\n",
              "      <td>1.271500</td>\n",
              "      <td>0.565000</td>\n",
              "      <td>1.267000</td>\n",
              "      <td>4.501500</td>\n",
              "      <td>0.967000</td>\n",
              "      <td>954.670000</td>\n",
              "      <td>366.240000</td>\n",
              "      <td>382.796000</td>\n",
              "      <td>223.242000</td>\n",
              "      <td>64.164000</td>\n",
              "      <td>0.719000</td>\n",
              "      <td>0.530000</td>\n",
              "      <td>0.703500</td>\n",
              "      <td>2.985000</td>\n",
              "      <td>0.807000</td>\n",
              "      <td>132.255000</td>\n",
              "      <td>10.299000</td>\n",
              "      <td>31.055000</td>\n",
              "      <td>1.690000</td>\n",
              "      <td>10.570000</td>\n",
              "      <td>0.607000</td>\n",
              "      <td>518.953000</td>\n",
              "      <td>37103.698250</td>\n",
              "      <td>2.700500</td>\n",
              "      <td>1.594407e+07</td>\n",
              "      <td>1.210000e+11</td>\n",
              "    </tr>\n",
              "    <tr>\n",
              "      <th>max</th>\n",
              "      <td>2019.000000</td>\n",
              "      <td>36441.388000</td>\n",
              "      <td>20100.000000</td>\n",
              "      <td>1667.711000</td>\n",
              "      <td>8959.962000</td>\n",
              "      <td>533.928000</td>\n",
              "      <td>1470.066000</td>\n",
              "      <td>794.334000</td>\n",
              "      <td>58.736000</td>\n",
              "      <td>100.000000</td>\n",
              "      <td>1.652920e+06</td>\n",
              "      <td>100.000000</td>\n",
              "      <td>9.360000</td>\n",
              "      <td>2.250000</td>\n",
              "      <td>9.363000</td>\n",
              "      <td>1563.761000</td>\n",
              "      <td>14944.736000</td>\n",
              "      <td>429.496000</td>\n",
              "      <td>7615.714000</td>\n",
              "      <td>12355.129000</td>\n",
              "      <td>150.213000</td>\n",
              "      <td>2.736000</td>\n",
              "      <td>34.139000</td>\n",
              "      <td>94.759000</td>\n",
              "      <td>52.51500</td>\n",
              "      <td>794.334000</td>\n",
              "      <td>0.357000</td>\n",
              "      <td>100.000000</td>\n",
              "      <td>100.000000</td>\n",
              "      <td>100.000000</td>\n",
              "      <td>100.000000</td>\n",
              "      <td>100.000000</td>\n",
              "      <td>772185.931000</td>\n",
              "      <td>580743.347000</td>\n",
              "      <td>237745.534000</td>\n",
              "      <td>17080.980000</td>\n",
              "      <td>41600.230000</td>\n",
              "      <td>100.000000</td>\n",
              "      <td>100.000000</td>\n",
              "      <td>100.000000</td>\n",
              "      <td>100.000000</td>\n",
              "      <td>100.000000</td>\n",
              "      <td>49854.980000</td>\n",
              "      <td>86.991000</td>\n",
              "      <td>8660.010000</td>\n",
              "      <td>39.812000</td>\n",
              "      <td>3054.000000</td>\n",
              "      <td>8.239000</td>\n",
              "      <td>153848.433000</td>\n",
              "      <td>317582.244000</td>\n",
              "      <td>14.939000</td>\n",
              "      <td>7.713468e+09</td>\n",
              "      <td>1.065610e+14</td>\n",
              "    </tr>\n",
              "  </tbody>\n",
              "</table>\n",
              "</div>"
            ],
            "text/plain": [
              "               year           co2  ...    population           gdp\n",
              "count  23708.000000  23170.000000  ...  2.107100e+04  1.300200e+04\n",
              "mean    1951.670997    270.245818  ...  5.927539e+07  4.396605e+11\n",
              "std       53.828319   1509.911932  ...  3.730743e+08  3.666682e+12\n",
              "min     1750.000000     -1.165000  ...  1.000000e+03  6.378000e+07\n",
              "25%     1922.000000      0.546000  ...  1.333018e+06  8.926728e+09\n",
              "50%     1965.000000      5.168000  ...  4.856304e+06  2.966217e+10\n",
              "75%     1993.000000     44.799000  ...  1.594407e+07  1.210000e+11\n",
              "max     2019.000000  36441.388000  ...  7.713468e+09  1.065610e+14\n",
              "\n",
              "[8 rows x 53 columns]"
            ]
          },
          "metadata": {
            "tags": []
          },
          "execution_count": 12
        }
      ]
    },
    {
      "cell_type": "code",
      "metadata": {
        "colab": {
          "base_uri": "https://localhost:8080/"
        },
        "id": "Xv7FkrK9Y2IF",
        "outputId": "759ba076-5e10-4eb8-8f8d-f36718c61749"
      },
      "source": [
        "ggdata['country'].value_counts()"
      ],
      "execution_count": 13,
      "outputs": [
        {
          "output_type": "execute_result",
          "data": {
            "text/plain": [
              "World                       270\n",
              "Europe (excl. EU-27)        270\n",
              "EU-28                       270\n",
              "Europe                      270\n",
              "United Kingdom              270\n",
              "                           ... \n",
              "French West Africa            9\n",
              "French Equatorial Africa      9\n",
              "Leeward Islands               7\n",
              "Kuwaiti Oil Fires             1\n",
              "Puerto Rico                   1\n",
              "Name: country, Length: 236, dtype: int64"
            ]
          },
          "metadata": {
            "tags": []
          },
          "execution_count": 13
        }
      ]
    },
    {
      "cell_type": "code",
      "metadata": {
        "colab": {
          "base_uri": "https://localhost:8080/"
        },
        "id": "6afvNvBQZHWm",
        "outputId": "21706323-6832-4407-f7c1-ff5e8eb259b3"
      },
      "source": [
        "ggdata['iso_code'].value_counts()"
      ],
      "execution_count": 14,
      "outputs": [
        {
          "output_type": "execute_result",
          "data": {
            "text/plain": [
              "GBR         270\n",
              "OWID_WRL    270\n",
              "CAN         235\n",
              "DEU         228\n",
              "POL         220\n",
              "           ... \n",
              "WLF          19\n",
              "TLS          18\n",
              "CXR          14\n",
              "OWID_KOS     12\n",
              "PRI           1\n",
              "Name: iso_code, Length: 214, dtype: int64"
            ]
          },
          "metadata": {
            "tags": []
          },
          "execution_count": 14
        }
      ]
    },
    {
      "cell_type": "code",
      "metadata": {
        "id": "sBhKDpHpWn_5"
      },
      "source": [
        "import matplotlib.pyplot as plt"
      ],
      "execution_count": 15,
      "outputs": []
    },
    {
      "cell_type": "code",
      "metadata": {
        "colab": {
          "base_uri": "https://localhost:8080/",
          "height": 332
        },
        "id": "Ve2T6y1gWpbW",
        "outputId": "946d645f-40d0-45a5-c3bb-cf6b0dab4c10"
      },
      "source": [
        "#Plot the points\n",
        "plt.plot(ggdata.year,ggdata.co2_growth_prct)\n",
        "# naming the x axis\n",
        "plt.xlabel('Year')\n",
        "# naming the y axis\n",
        "plt.ylabel('CO2 Growth Percentage')\n",
        "  \n",
        "# giving a title to my graph\n",
        "plt.title('Global CO2 Growth Percentage per Year')\n",
        "  \n",
        "# function to show the plot\n",
        "plt.show()"
      ],
      "execution_count": 20,
      "outputs": [
        {
          "output_type": "execute_result",
          "data": {
            "text/plain": [
              "[<matplotlib.lines.Line2D at 0x7fba479f04d0>]"
            ]
          },
          "metadata": {
            "tags": []
          },
          "execution_count": 20
        },
        {
          "output_type": "execute_result",
          "data": {
            "text/plain": [
              "Text(0.5, 0, 'Year')"
            ]
          },
          "metadata": {
            "tags": []
          },
          "execution_count": 20
        },
        {
          "output_type": "execute_result",
          "data": {
            "text/plain": [
              "Text(0, 0.5, 'CO2 Growth Percentage')"
            ]
          },
          "metadata": {
            "tags": []
          },
          "execution_count": 20
        },
        {
          "output_type": "execute_result",
          "data": {
            "text/plain": [
              "Text(0.5, 1.0, 'Global CO2 Growth Percentage per Year')"
            ]
          },
          "metadata": {
            "tags": []
          },
          "execution_count": 20
        },
        {
          "output_type": "display_data",
          "data": {
            "image/png": "[encoded data removed]",
            "text/plain": [
              "<Figure size 432x288 with 1 Axes>"
            ]
          },
          "metadata": {
            "tags": [],
            "needs_background": "light"
          }
        }
      ]
    }
  ]
}